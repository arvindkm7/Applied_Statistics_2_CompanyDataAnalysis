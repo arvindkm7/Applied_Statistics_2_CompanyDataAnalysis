{
 "cells": [
  {
   "cell_type": "markdown",
   "id": "379990ea",
   "metadata": {},
   "source": [
    "# Company Data Analysis\n",
    "\n",
    "### • Read the CSV file"
   ]
  },
  {
   "cell_type": "code",
   "execution_count": 119,
   "id": "643ac0ff",
   "metadata": {},
   "outputs": [],
   "source": [
    "import warnings\n",
    "warnings.filterwarnings('ignore')\n",
    "import numpy as np\n",
    "import pandas as pd\n",
    "import matplotlib.pyplot as plt\n",
    "import seaborn as sns\n",
    "from statsmodels.stats.weightstats import ztest\n",
    "%matplotlib inline\n",
    "from statsmodels.stats.weightstats import ztest\n",
    "from statsmodels.stats.proportion import proportions_ztest\n",
    "from matplotlib import cm\n",
    "from scipy.stats import f_oneway"
   ]
  },
  {
   "cell_type": "code",
   "execution_count": 120,
   "id": "0e8a0420",
   "metadata": {},
   "outputs": [],
   "source": [
    "#Read the CSV file.\n",
    "\n",
    "df = pd.read_csv('CompanyX_EU.csv')\n"
   ]
  },
  {
   "cell_type": "markdown",
   "id": "83dc27a5",
   "metadata": {},
   "source": [
    "## 2. Data exploration:\n",
    "### • Check the datatypes of each attribute.\n"
   ]
  },
  {
   "cell_type": "code",
   "execution_count": 121,
   "id": "a4e88564",
   "metadata": {},
   "outputs": [
    {
     "name": "stdout",
     "output_type": "stream",
     "text": [
      "<class 'pandas.core.frame.DataFrame'>\n",
      "RangeIndex: 662 entries, 0 to 661\n",
      "Data columns (total 6 columns):\n",
      " #   Column          Non-Null Count  Dtype \n",
      "---  ------          --------------  ----- \n",
      " 0   Startup         662 non-null    object\n",
      " 1   Product         656 non-null    object\n",
      " 2   Funding         448 non-null    object\n",
      " 3   Event           662 non-null    object\n",
      " 4   Result          662 non-null    object\n",
      " 5   OperatingState  662 non-null    object\n",
      "dtypes: object(6)\n",
      "memory usage: 31.2+ KB\n"
     ]
    }
   ],
   "source": [
    "# Check the datatypes of each attribute\n",
    "df.info()"
   ]
  },
  {
   "cell_type": "markdown",
   "id": "f0047b6a",
   "metadata": {},
   "source": [
    "### • Check for null values in the attributes"
   ]
  },
  {
   "cell_type": "code",
   "execution_count": 122,
   "id": "76661263",
   "metadata": {},
   "outputs": [
    {
     "data": {
      "text/plain": [
       "Startup             0\n",
       "Product             6\n",
       "Funding           214\n",
       "Event               0\n",
       "Result              0\n",
       "OperatingState      0\n",
       "dtype: int64"
      ]
     },
     "execution_count": 122,
     "metadata": {},
     "output_type": "execute_result"
    }
   ],
   "source": [
    "# Check for null values in the attributes\n",
    "\n",
    "df.isna().sum()"
   ]
  },
  {
   "cell_type": "markdown",
   "id": "cb42c655",
   "metadata": {},
   "source": [
    "## 3. Data preprocessing & visualisation:\n",
    "### • Drop the null values"
   ]
  },
  {
   "cell_type": "code",
   "execution_count": 123,
   "id": "3dee4a98",
   "metadata": {},
   "outputs": [
    {
     "data": {
      "text/plain": [
       "Startup           0\n",
       "Product           0\n",
       "Funding           0\n",
       "Event             0\n",
       "Result            0\n",
       "OperatingState    0\n",
       "dtype: int64"
      ]
     },
     "execution_count": 123,
     "metadata": {},
     "output_type": "execute_result"
    }
   ],
   "source": [
    "# Check for null values after droping it \n",
    "\n",
    "df1 = df.dropna().copy(deep=True)\n",
    "df1.dropna(inplace=True)\n",
    "df1.isna().sum()"
   ]
  },
  {
   "cell_type": "markdown",
   "id": "5831a6a1",
   "metadata": {},
   "source": [
    "### • Convert the ‘Funding’ features to a numerical value."
   ]
  },
  {
   "cell_type": "code",
   "execution_count": 124,
   "id": "0e03830b",
   "metadata": {},
   "outputs": [
    {
     "data": {
      "text/html": [
       "<div>\n",
       "<style scoped>\n",
       "    .dataframe tbody tr th:only-of-type {\n",
       "        vertical-align: middle;\n",
       "    }\n",
       "\n",
       "    .dataframe tbody tr th {\n",
       "        vertical-align: top;\n",
       "    }\n",
       "\n",
       "    .dataframe thead th {\n",
       "        text-align: right;\n",
       "    }\n",
       "</style>\n",
       "<table border=\"1\" class=\"dataframe\">\n",
       "  <thead>\n",
       "    <tr style=\"text-align: right;\">\n",
       "      <th></th>\n",
       "      <th>Startup</th>\n",
       "      <th>Product</th>\n",
       "      <th>Funding</th>\n",
       "      <th>Event</th>\n",
       "      <th>Result</th>\n",
       "      <th>OperatingState</th>\n",
       "      <th>Funds_in_million</th>\n",
       "    </tr>\n",
       "  </thead>\n",
       "  <tbody>\n",
       "    <tr>\n",
       "      <th>1</th>\n",
       "      <td>3DLT</td>\n",
       "      <td>3dlt.com</td>\n",
       "      <td>$630K</td>\n",
       "      <td>Disrupt NYC 2013</td>\n",
       "      <td>Contestant</td>\n",
       "      <td>Closed</td>\n",
       "      <td>0.63</td>\n",
       "    </tr>\n",
       "    <tr>\n",
       "      <th>3</th>\n",
       "      <td>3Dprintler</td>\n",
       "      <td>3dprintler.com</td>\n",
       "      <td>$1M</td>\n",
       "      <td>Disrupt NY 2016</td>\n",
       "      <td>Audience choice</td>\n",
       "      <td>Operating</td>\n",
       "      <td>1.00</td>\n",
       "    </tr>\n",
       "    <tr>\n",
       "      <th>5</th>\n",
       "      <td>5to1</td>\n",
       "      <td>5to1.com</td>\n",
       "      <td>$19.3M</td>\n",
       "      <td>TC50 2009</td>\n",
       "      <td>Contestant</td>\n",
       "      <td>Acquired</td>\n",
       "      <td>19.30</td>\n",
       "    </tr>\n",
       "    <tr>\n",
       "      <th>6</th>\n",
       "      <td>8 Securities</td>\n",
       "      <td>8securities.com</td>\n",
       "      <td>$29M</td>\n",
       "      <td>Disrupt Beijing 2011</td>\n",
       "      <td>Finalist</td>\n",
       "      <td>Operating</td>\n",
       "      <td>29.00</td>\n",
       "    </tr>\n",
       "    <tr>\n",
       "      <th>10</th>\n",
       "      <td>AdhereTech</td>\n",
       "      <td>adheretech.com</td>\n",
       "      <td>$1.8M</td>\n",
       "      <td>Hardware Battlefield 2014</td>\n",
       "      <td>Contestant</td>\n",
       "      <td>Operating</td>\n",
       "      <td>1.80</td>\n",
       "    </tr>\n",
       "  </tbody>\n",
       "</table>\n",
       "</div>"
      ],
      "text/plain": [
       "         Startup          Product Funding                      Event  \\\n",
       "1           3DLT         3dlt.com   $630K           Disrupt NYC 2013   \n",
       "3     3Dprintler   3dprintler.com     $1M            Disrupt NY 2016   \n",
       "5           5to1         5to1.com  $19.3M                  TC50 2009   \n",
       "6   8 Securities  8securities.com    $29M       Disrupt Beijing 2011   \n",
       "10    AdhereTech   adheretech.com   $1.8M  Hardware Battlefield 2014   \n",
       "\n",
       "             Result OperatingState  Funds_in_million  \n",
       "1        Contestant         Closed              0.63  \n",
       "3   Audience choice      Operating              1.00  \n",
       "5        Contestant       Acquired             19.30  \n",
       "6          Finalist      Operating             29.00  \n",
       "10       Contestant      Operating              1.80  "
      ]
     },
     "execution_count": 124,
     "metadata": {},
     "output_type": "execute_result"
    }
   ],
   "source": [
    "# Convert the ‘Funding’ features to a numerical value.\n",
    "\n",
    "#df1.loc[:,'Funds_in_million'] = df1['Funding'].apply(lambda x: float(x[1:-1])/1000 if x[-1]=='K' else float(x[1:-1]))\n",
    "df1.loc[:,'Funds_in_million'] = df1['Funding'].apply(lambda x: float(x[1:-1])/1000 if x[-1] == 'K' else (float(x[1:-1])*1000 if x[-1] == 'B' else float(x[1:-1])))\n",
    "df1.head()"
   ]
  },
  {
   "cell_type": "code",
   "execution_count": 125,
   "id": "9dfda53e",
   "metadata": {},
   "outputs": [
    {
     "data": {
      "text/html": [
       "<div>\n",
       "<style scoped>\n",
       "    .dataframe tbody tr th:only-of-type {\n",
       "        vertical-align: middle;\n",
       "    }\n",
       "\n",
       "    .dataframe tbody tr th {\n",
       "        vertical-align: top;\n",
       "    }\n",
       "\n",
       "    .dataframe thead th {\n",
       "        text-align: right;\n",
       "    }\n",
       "</style>\n",
       "<table border=\"1\" class=\"dataframe\">\n",
       "  <thead>\n",
       "    <tr style=\"text-align: right;\">\n",
       "      <th></th>\n",
       "      <th>Funds_in_million</th>\n",
       "    </tr>\n",
       "  </thead>\n",
       "  <tbody>\n",
       "    <tr>\n",
       "      <th>count</th>\n",
       "      <td>446.000000</td>\n",
       "    </tr>\n",
       "    <tr>\n",
       "      <th>mean</th>\n",
       "      <td>17.241489</td>\n",
       "    </tr>\n",
       "    <tr>\n",
       "      <th>std</th>\n",
       "      <td>90.483710</td>\n",
       "    </tr>\n",
       "    <tr>\n",
       "      <th>min</th>\n",
       "      <td>0.005000</td>\n",
       "    </tr>\n",
       "    <tr>\n",
       "      <th>25%</th>\n",
       "      <td>0.745250</td>\n",
       "    </tr>\n",
       "    <tr>\n",
       "      <th>50%</th>\n",
       "      <td>2.200000</td>\n",
       "    </tr>\n",
       "    <tr>\n",
       "      <th>75%</th>\n",
       "      <td>9.475000</td>\n",
       "    </tr>\n",
       "    <tr>\n",
       "      <th>max</th>\n",
       "      <td>1700.000000</td>\n",
       "    </tr>\n",
       "  </tbody>\n",
       "</table>\n",
       "</div>"
      ],
      "text/plain": [
       "       Funds_in_million\n",
       "count        446.000000\n",
       "mean          17.241489\n",
       "std           90.483710\n",
       "min            0.005000\n",
       "25%            0.745250\n",
       "50%            2.200000\n",
       "75%            9.475000\n",
       "max         1700.000000"
      ]
     },
     "execution_count": 125,
     "metadata": {},
     "output_type": "execute_result"
    }
   ],
   "source": [
    "# Checking the description and info of the data for a cross check. \n",
    "df1.describe()"
   ]
  },
  {
   "cell_type": "code",
   "execution_count": 126,
   "id": "597a27cf",
   "metadata": {},
   "outputs": [
    {
     "name": "stdout",
     "output_type": "stream",
     "text": [
      "<class 'pandas.core.frame.DataFrame'>\n",
      "Int64Index: 446 entries, 1 to 661\n",
      "Data columns (total 7 columns):\n",
      " #   Column            Non-Null Count  Dtype  \n",
      "---  ------            --------------  -----  \n",
      " 0   Startup           446 non-null    object \n",
      " 1   Product           446 non-null    object \n",
      " 2   Funding           446 non-null    object \n",
      " 3   Event             446 non-null    object \n",
      " 4   Result            446 non-null    object \n",
      " 5   OperatingState    446 non-null    object \n",
      " 6   Funds_in_million  446 non-null    float64\n",
      "dtypes: float64(1), object(6)\n",
      "memory usage: 27.9+ KB\n"
     ]
    }
   ],
   "source": [
    "df1.info()"
   ]
  },
  {
   "cell_type": "markdown",
   "id": "b511d30a",
   "metadata": {},
   "source": [
    "### • Plot box plot for funds in million."
   ]
  },
  {
   "cell_type": "code",
   "execution_count": 127,
   "id": "3d8db79a",
   "metadata": {
    "scrolled": true
   },
   "outputs": [
    {
     "data": {
      "image/png": "[encoded data removed]",
      "text/plain": [
       "<Figure size 432x288 with 1 Axes>"
      ]
     },
     "metadata": {
      "needs_background": "light"
     },
     "output_type": "display_data"
    }
   ],
   "source": [
    "# Plot box plot for funds in million\n",
    "\n",
    "plot=plt.boxplot(df1['Funds_in_million'])\n",
    "plt.title('Boxplot of the funds in million')\n",
    "plt.ylabel(\"Funds in Million\")\n",
    "plt.show()"
   ]
  },
  {
   "cell_type": "markdown",
   "id": "ae13ba85",
   "metadata": {},
   "source": [
    "### • Get the lower fence from the box plot."
   ]
  },
  {
   "cell_type": "code",
   "execution_count": 128,
   "id": "b9a781d5",
   "metadata": {},
   "outputs": [
    {
     "data": {
      "text/plain": [
       "0.005"
      ]
     },
     "execution_count": 128,
     "metadata": {},
     "output_type": "execute_result"
    }
   ],
   "source": [
    "#  Get the lower fence from the box plot\n",
    "\n",
    "plot['caps'][0].get_data()[1][1]"
   ]
  },
  {
   "cell_type": "markdown",
   "id": "50bb4803",
   "metadata": {},
   "source": [
    "### • Check number of outliers greater than upper fence.\n"
   ]
  },
  {
   "cell_type": "code",
   "execution_count": 129,
   "id": "265d21fa",
   "metadata": {},
   "outputs": [
    {
     "data": {
      "text/plain": [
       "22.0"
      ]
     },
     "execution_count": 129,
     "metadata": {},
     "output_type": "execute_result"
    }
   ],
   "source": [
    "# Upper Fence\n",
    "\n",
    "up_fen = plot['caps'][1].get_data()[1][1]   \n",
    "up_fen"
   ]
  },
  {
   "cell_type": "code",
   "execution_count": 130,
   "id": "772f800a",
   "metadata": {},
   "outputs": [
    {
     "data": {
      "text/plain": [
       "60"
      ]
     },
     "execution_count": 130,
     "metadata": {},
     "output_type": "execute_result"
    }
   ],
   "source": [
    "# Number of Outliers\n",
    "\n",
    "outliers = len(df1[df1.Funds_in_million > up_fen])\n",
    "outliers"
   ]
  },
  {
   "cell_type": "markdown",
   "id": "94fdf4dc",
   "metadata": {},
   "source": [
    "### • Drop the values that are greater than upper fence.\n"
   ]
  },
  {
   "cell_type": "code",
   "execution_count": 131,
   "id": "289e54c6",
   "metadata": {},
   "outputs": [
    {
     "data": {
      "text/plain": [
       "22.0"
      ]
     },
     "execution_count": 131,
     "metadata": {},
     "output_type": "execute_result"
    }
   ],
   "source": [
    "# Drop the values that are greater than upper fence\n",
    "\n",
    "df1.drop(df1[df1.Funds_in_million > up_fen].index, inplace = True)\n",
    "df1.Funds_in_million.max()"
   ]
  },
  {
   "cell_type": "code",
   "execution_count": 132,
   "id": "5f282a17",
   "metadata": {},
   "outputs": [
    {
     "data": {
      "text/plain": [
       "0.005"
      ]
     },
     "execution_count": 132,
     "metadata": {},
     "output_type": "execute_result"
    }
   ],
   "source": [
    "df1.Funds_in_million.min()"
   ]
  },
  {
   "cell_type": "markdown",
   "id": "26c333d7",
   "metadata": {},
   "source": [
    "### • Plot the box plot after dropping the values.\n"
   ]
  },
  {
   "cell_type": "code",
   "execution_count": 133,
   "id": "a3eb8534",
   "metadata": {},
   "outputs": [
    {
     "data": {
      "image/png": "[encoded data removed]",
      "text/plain": [
       "<Figure size 432x288 with 1 Axes>"
      ]
     },
     "metadata": {
      "needs_background": "light"
     },
     "output_type": "display_data"
    }
   ],
   "source": [
    "# Plot the box plot after dropping the values\n",
    "\n",
    "plot = plt.boxplot(df1.Funds_in_million)\n",
    "plt.ylabel('Funds in Million')\n",
    "plt.show()"
   ]
  },
  {
   "cell_type": "markdown",
   "id": "324306ad",
   "metadata": {},
   "source": [
    "### • Check frequency of the OperatingState features classes."
   ]
  },
  {
   "cell_type": "code",
   "execution_count": 134,
   "id": "dbbf82d9",
   "metadata": {},
   "outputs": [
    {
     "data": {
      "image/png": "[encoded data removed]",
      "text/plain": [
       "<Figure size 432x288 with 1 Axes>"
      ]
     },
     "metadata": {
      "needs_background": "light"
     },
     "output_type": "display_data"
    }
   ],
   "source": [
    "# Check frequency of the OperatingState features classes\n",
    "\n",
    "plot = plt.boxplot(df1.Funds_in_million)\n",
    "plt.title('Funds without the original outliers')\n",
    "plt.ylabel('Funds (in Million)')\n",
    "plt.show()"
   ]
  },
  {
   "cell_type": "code",
   "execution_count": 135,
   "id": "614cda78",
   "metadata": {},
   "outputs": [
    {
     "data": {
      "text/plain": [
       "Operating    275\n",
       "Closed        56\n",
       "Acquired      55\n",
       "Name: OperatingState, dtype: int64"
      ]
     },
     "execution_count": 135,
     "metadata": {},
     "output_type": "execute_result"
    }
   ],
   "source": [
    "# Check frequency of the OperatingState features classes\n",
    "\n",
    "df1['OperatingState'].value_counts()"
   ]
  },
  {
   "cell_type": "markdown",
   "id": "edbe7050",
   "metadata": {},
   "source": [
    "### • Plot a distribution plot for Funds in million."
   ]
  },
  {
   "cell_type": "code",
   "execution_count": 136,
   "id": "4d658e67",
   "metadata": {},
   "outputs": [
    {
     "data": {
      "image/png": "[encoded data removed]",
      "text/plain": [
       "<Figure size 432x288 with 1 Axes>"
      ]
     },
     "metadata": {
      "needs_background": "light"
     },
     "output_type": "display_data"
    }
   ],
   "source": [
    "# Plot a distribution plot for Funds in million.\n",
    "sns.distplot(df1.Funds_in_million)\n",
    "plt.show()"
   ]
  },
  {
   "cell_type": "markdown",
   "id": "47aa9224",
   "metadata": {},
   "source": [
    "### • Plot distribution plots for companies still operating and companies that closed."
   ]
  },
  {
   "cell_type": "code",
   "execution_count": 137,
   "id": "4134b710",
   "metadata": {},
   "outputs": [
    {
     "data": {
      "image/png": "[encoded data removed]",
      "text/plain": [
       "<Figure size 1008x288 with 2 Axes>"
      ]
     },
     "metadata": {
      "needs_background": "light"
     },
     "output_type": "display_data"
    }
   ],
   "source": [
    "# Plot distribution plots for companies still operating and companies that closed\n",
    "\n",
    "fig, ax = plt.subplots(1,2)\n",
    "\n",
    "fig.set_figheight(4)\n",
    "fig.set_figwidth(14)\n",
    "\n",
    "sns.distplot(df1.loc[df1['OperatingState'] == 'Operating', 'Funds_in_million'], ax = ax[0],color='green')\n",
    "sns.distplot(df1.loc[df1['OperatingState'] =='Closed', 'Funds_in_million'], ax = ax[1],color='Red')\n",
    "\n",
    "ax[0].set_title('Operattional')\n",
    "ax[1].set_title('Closed')\n",
    "plt.show()"
   ]
  },
  {
   "cell_type": "markdown",
   "id": "9d2c02ed",
   "metadata": {},
   "source": [
    "# Statistical analysis:\n",
    "### - Is there any significant difference between Funds raised by companies that are still operating vs companies that closed down?\n",
    "### -   Write the null hypothesis and alternative hypothesis.\n",
    "### - Test for significance and conclusion"
   ]
  },
  {
   "cell_type": "code",
   "execution_count": 138,
   "id": "00fa1f87",
   "metadata": {},
   "outputs": [
    {
     "name": "stdout",
     "output_type": "stream",
     "text": [
      "p_value is :  0.1922631485716917\n",
      "alpha is :  0.05\n"
     ]
    }
   ],
   "source": [
    "# Statistical analysis:\n",
    "\n",
    "alpha=0.05\n",
    "sample1 = df1.loc[df1.OperatingState == 'Operating', 'Funds_in_million']\n",
    "sample2 = df1.loc[df1.OperatingState =='Closed', 'Funds_in_million']\n",
    "test_statistic, p_value = ztest(sample1, sample2)\n",
    "print('p_value is : ', p_value)\n",
    "print('alpha is : ', alpha)"
   ]
  },
  {
   "cell_type": "markdown",
   "id": "480454b3",
   "metadata": {},
   "source": [
    "### • Make a copy of the original data frame.\n"
   ]
  },
  {
   "cell_type": "code",
   "execution_count": 139,
   "id": "2202b1ee",
   "metadata": {},
   "outputs": [
    {
     "data": {
      "text/html": [
       "<div>\n",
       "<style scoped>\n",
       "    .dataframe tbody tr th:only-of-type {\n",
       "        vertical-align: middle;\n",
       "    }\n",
       "\n",
       "    .dataframe tbody tr th {\n",
       "        vertical-align: top;\n",
       "    }\n",
       "\n",
       "    .dataframe thead th {\n",
       "        text-align: right;\n",
       "    }\n",
       "</style>\n",
       "<table border=\"1\" class=\"dataframe\">\n",
       "  <thead>\n",
       "    <tr style=\"text-align: right;\">\n",
       "      <th></th>\n",
       "      <th>Startup</th>\n",
       "      <th>Product</th>\n",
       "      <th>Funding</th>\n",
       "      <th>Event</th>\n",
       "      <th>Result</th>\n",
       "      <th>OperatingState</th>\n",
       "      <th>Funds_in_million</th>\n",
       "    </tr>\n",
       "  </thead>\n",
       "  <tbody>\n",
       "    <tr>\n",
       "      <th>1</th>\n",
       "      <td>3DLT</td>\n",
       "      <td>3dlt.com</td>\n",
       "      <td>$630K</td>\n",
       "      <td>Disrupt NYC 2013</td>\n",
       "      <td>Contestant</td>\n",
       "      <td>Closed</td>\n",
       "      <td>0.63</td>\n",
       "    </tr>\n",
       "    <tr>\n",
       "      <th>3</th>\n",
       "      <td>3Dprintler</td>\n",
       "      <td>3dprintler.com</td>\n",
       "      <td>$1M</td>\n",
       "      <td>Disrupt NY 2016</td>\n",
       "      <td>Audience choice</td>\n",
       "      <td>Operating</td>\n",
       "      <td>1.00</td>\n",
       "    </tr>\n",
       "    <tr>\n",
       "      <th>5</th>\n",
       "      <td>5to1</td>\n",
       "      <td>5to1.com</td>\n",
       "      <td>$19.3M</td>\n",
       "      <td>TC50 2009</td>\n",
       "      <td>Contestant</td>\n",
       "      <td>Acquired</td>\n",
       "      <td>19.30</td>\n",
       "    </tr>\n",
       "    <tr>\n",
       "      <th>10</th>\n",
       "      <td>AdhereTech</td>\n",
       "      <td>adheretech.com</td>\n",
       "      <td>$1.8M</td>\n",
       "      <td>Hardware Battlefield 2014</td>\n",
       "      <td>Contestant</td>\n",
       "      <td>Operating</td>\n",
       "      <td>1.80</td>\n",
       "    </tr>\n",
       "    <tr>\n",
       "      <th>11</th>\n",
       "      <td>AdRocket</td>\n",
       "      <td>adrocket.com</td>\n",
       "      <td>$1M</td>\n",
       "      <td>TC50 2008</td>\n",
       "      <td>Contestant</td>\n",
       "      <td>Closed</td>\n",
       "      <td>1.00</td>\n",
       "    </tr>\n",
       "  </tbody>\n",
       "</table>\n",
       "</div>"
      ],
      "text/plain": [
       "       Startup         Product Funding                      Event  \\\n",
       "1         3DLT        3dlt.com   $630K           Disrupt NYC 2013   \n",
       "3   3Dprintler  3dprintler.com     $1M            Disrupt NY 2016   \n",
       "5         5to1        5to1.com  $19.3M                  TC50 2009   \n",
       "10  AdhereTech  adheretech.com   $1.8M  Hardware Battlefield 2014   \n",
       "11    AdRocket    adrocket.com     $1M                  TC50 2008   \n",
       "\n",
       "             Result OperatingState  Funds_in_million  \n",
       "1        Contestant         Closed              0.63  \n",
       "3   Audience choice      Operating              1.00  \n",
       "5        Contestant       Acquired             19.30  \n",
       "10       Contestant      Operating              1.80  \n",
       "11       Contestant         Closed              1.00  "
      ]
     },
     "execution_count": 139,
     "metadata": {},
     "output_type": "execute_result"
    }
   ],
   "source": [
    "# • Make a copy of the original data frame\n",
    "\n",
    "df2 = df1.dropna().copy(deep=True)\n",
    "df2.head()"
   ]
  },
  {
   "cell_type": "markdown",
   "id": "f36c0b4f",
   "metadata": {},
   "source": [
    "### • Check frequency distribution of Result variable."
   ]
  },
  {
   "cell_type": "code",
   "execution_count": 140,
   "id": "bc7e4446",
   "metadata": {},
   "outputs": [
    {
     "data": {
      "text/plain": [
       "Contestant         282\n",
       "Finalist            52\n",
       "Audience choice     20\n",
       "Winner              17\n",
       "Runner up           15\n",
       "Name: Result, dtype: int64"
      ]
     },
     "execution_count": 140,
     "metadata": {},
     "output_type": "execute_result"
    }
   ],
   "source": [
    "# Check frequency distribution of Result variable\n",
    "\n",
    "df2['Result'].value_counts()"
   ]
  },
  {
   "cell_type": "markdown",
   "id": "2b9460c9",
   "metadata": {},
   "source": [
    "### • Calculate percentage of winners that are still operating and percentage of contestants that are still operating\n"
   ]
  },
  {
   "cell_type": "code",
   "execution_count": 141,
   "id": "40d643ce",
   "metadata": {},
   "outputs": [
    {
     "name": "stdout",
     "output_type": "stream",
     "text": [
      "Result           OperatingState\n",
      "Audience choice  Operating          18\n",
      "                 Closed              2\n",
      "Contestant       Operating         194\n",
      "                 Closed             49\n",
      "                 Acquired           39\n",
      "Finalist         Operating          37\n",
      "                 Acquired           10\n",
      "                 Closed              5\n",
      "Runner up        Operating          14\n",
      "                 Acquired            1\n",
      "Winner           Operating          12\n",
      "                 Acquired            5\n",
      "Name: OperatingState, dtype: int64\n",
      "The percentage of Contestants operating is :  68.0327868852459\n",
      "The percentage of Winners operating is :  76.4367816091954\n"
     ]
    }
   ],
   "source": [
    "# • Calculate percentage of winners that are still operating and percentage of contestants that are still operating\n",
    "\n",
    "print(df2.groupby('Result').OperatingState.value_counts())\n",
    "\n",
    "cont_op=(332/488)*100\n",
    "win_op=(133/174)*100\n",
    "print('The percentage of Contestants operating is : ',cont_op)\n",
    "print('The percentage of Winners operating is : ', win_op)"
   ]
  },
  {
   "cell_type": "code",
   "execution_count": 142,
   "id": "2885ea1b",
   "metadata": {},
   "outputs": [],
   "source": [
    "#• Write your hypothesis comparing the proportion of companies that are operating between winners and contestants:\n",
    " #Write the null hypothesis and alternative hypothesis.\n",
    "# Test for significance and conclusion"
   ]
  },
  {
   "cell_type": "markdown",
   "id": "9c772a9b",
   "metadata": {},
   "source": [
    "### • Check distribution of the Event variable."
   ]
  },
  {
   "cell_type": "code",
   "execution_count": 143,
   "id": "19354e1e",
   "metadata": {},
   "outputs": [
    {
     "data": {
      "text/plain": [
       "TC50 2008                    25\n",
       "TC40 2007                    22\n",
       "Disrupt NY 2015              21\n",
       "Disrupt NYC 2012             19\n",
       "Disrupt SF 2011              19\n",
       "TC50 2009                    19\n",
       "Disrupt NYC 2013             19\n",
       "Disrupt SF 2015              19\n",
       "Disrupt SF 2013              19\n",
       "Disrupt SF 2014              19\n",
       "Disrupt SF 2016              17\n",
       "Disrupt NY 2016              16\n",
       "Disrupt NYC 2011             15\n",
       "Disrupt SF 2012              15\n",
       "Disrupt NYC 2014             15\n",
       "Disrupt SF 2010              13\n",
       "Hardware Battlefield 2014    12\n",
       "Hardware Battlefield 2016    12\n",
       "Disrupt London 2015          11\n",
       "Disrupt EU 2014              10\n",
       "Hardware Battlefield 2015    10\n",
       "Disrupt NYC 2010             10\n",
       "Disrupt London 2016          10\n",
       "Disrupt EU 2013               9\n",
       "-                             6\n",
       "Disrupt Beijing 2011          4\n",
       "Name: Event, dtype: int64"
      ]
     },
     "execution_count": 143,
     "metadata": {},
     "output_type": "execute_result"
    }
   ],
   "source": [
    "# • Check distribution of the Event variable\n",
    "\n",
    "df2['Event'].value_counts()"
   ]
  },
  {
   "cell_type": "markdown",
   "id": "8ce9244a",
   "metadata": {},
   "source": [
    "### • Select only the Event that has disrupt keyword from 2013 onwards."
   ]
  },
  {
   "cell_type": "code",
   "execution_count": 144,
   "id": "62260967",
   "metadata": {},
   "outputs": [
    {
     "data": {
      "text/plain": [
       "Disrupt NY 2015        21\n",
       "Disrupt SF 2013        19\n",
       "Disrupt SF 2014        19\n",
       "Disrupt SF 2015        19\n",
       "Disrupt NYC 2013       19\n",
       "Disrupt SF 2016        17\n",
       "Disrupt NY 2016        16\n",
       "Disrupt NYC 2014       15\n",
       "Disrupt London 2015    11\n",
       "Disrupt London 2016    10\n",
       "Disrupt EU 2014        10\n",
       "Disrupt EU 2013         9\n",
       "Name: Event, dtype: int64"
      ]
     },
     "execution_count": 144,
     "metadata": {},
     "output_type": "execute_result"
    }
   ],
   "source": [
    "# • Select only the Event that has disrupt keyword from 2013 onwards.\n",
    "\n",
    "events = df1[df1['Event'].apply(lambda x: 'Disrupt' in x and int(x[-4:]) >= 2013)]['Event']\n",
    "selected_events = df1[df1['Event'].apply(lambda x: 'Disrupt' in x and int(x[-4:]) >= 2013)]['Event'].value_counts()  \n",
    "selected_events"
   ]
  },
  {
   "cell_type": "code",
   "execution_count": 145,
   "id": "d50a7b6c",
   "metadata": {},
   "outputs": [],
   "source": [
    "#df1=pd.to_numeric(df1.Event, errors='coerce')\n",
    "#df1.isna().sum()\n",
    "#df1.head()\n",
    "#df1['Year']= df1['Event'].apply(lambda x: x[-4:]).astype('int')"
   ]
  },
  {
   "cell_type": "markdown",
   "id": "56adb6ac",
   "metadata": {},
   "source": [
    "### Write and perform your hypothesis along with significance test comparing the funds raised by companies across NY, SF and EU events from 2013 onwards\n"
   ]
  },
  {
   "cell_type": "code",
   "execution_count": 146,
   "id": "ae63009c",
   "metadata": {},
   "outputs": [
    {
     "name": "stdout",
     "output_type": "stream",
     "text": [
      "Evenys held at SF :71, NewYork : 74 and Europe :40\n"
     ]
    }
   ],
   "source": [
    "# Write and perform your hypothesis along with significance test comparing the funds raised by companies across NY, SF and EU events from\n",
    "# 2013 onwards\n",
    "\n",
    "events_SF = df1.loc[events[events.apply(lambda x: 'SF' in x)].index, 'Funds_in_million']\n",
    "events_NY = df1.loc[events[events.apply(lambda x: 'NY' in x)].index, 'Funds_in_million'] \n",
    "events_EU = df1.loc[events[events.apply(lambda x: 'EU' in x or 'London' in x)].index, 'Funds_in_million'] \n",
    "\n",
    "\n",
    "print(f\"Evenys held at SF :{len(events_NY)}, NewYork : {len(events_SF)} and Europe :{len(events_EU)}\")"
   ]
  },
  {
   "cell_type": "markdown",
   "id": "dbe3a2ab",
   "metadata": {},
   "source": []
  },
  {
   "cell_type": "markdown",
   "id": "bd8270f2",
   "metadata": {},
   "source": [
    "### • Plot the distribution plot comparing the 3 city events."
   ]
  },
  {
   "cell_type": "code",
   "execution_count": 147,
   "id": "ceef62ac",
   "metadata": {},
   "outputs": [
    {
     "data": {
      "image/png": "[encoded data removed]",
      "text/plain": [
       "<Figure size 1080x432 with 1 Axes>"
      ]
     },
     "metadata": {
      "needs_background": "light"
     },
     "output_type": "display_data"
    }
   ],
   "source": [
    "#• Plot the distribution plot comparing the 3 city events \n",
    "\n",
    "plt.figure(figsize=(15,6))\n",
    "sns.distplot(events_NY, color = 'Red', label = 'New York')\n",
    "sns.distplot(events_SF, color = 'Green', label = 'SF')\n",
    "sns.distplot(events_EU, color = 'BLue', label = 'EUROPE')\n",
    "plt.legend()\n",
    "plt.show()"
   ]
  },
  {
   "cell_type": "code",
   "execution_count": 148,
   "id": "552c5bb3",
   "metadata": {},
   "outputs": [
    {
     "name": "stdout",
     "output_type": "stream",
     "text": [
      "p-value : 0.628 > alpha : 0.05\n"
     ]
    }
   ],
   "source": [
    "#Sample sizes are different across the three categories so we will perform ANOVA on samples of different sizes.\n",
    "\n",
    "stat, p_value = f_oneway(events_NY, events_SF, events_EU)\n",
    "if p_value <= alpha:\n",
    "    print(f'p-value : {round(p_value, 3)} < alpha : {alpha}')\n",
    "else:\n",
    "    print(f'p-value : {round(p_value,3)} > alpha : {alpha}')\n",
    "    "
   ]
  },
  {
   "cell_type": "markdown",
   "id": "a9131d28",
   "metadata": {},
   "source": [
    "## Final suggestion:\n",
    "\n",
    "* Quality of the data:\n",
    "    * The data looks good all of them were used for the analysis and no major correction were needed nor the data were imbalance.\n",
    "\n",
    "* Quantity of the data:\n",
    "    * The data quality could be much better, if the missing data were present.\n",
    "    \n",
    "* 3V’s of the data:\n",
    "    * Volume is acceptable as most of the data was utilized and not major changes were done.\n",
    "    *In terms of Velocity and Variety of the data, we cannot suggest much as the data is not generate in real-time nor it was unstructured or were Human or Machine generated."
   ]
  }
 ],
 "metadata": {
  "kernelspec": {
   "display_name": "Python 3 (ipykernel)",
   "language": "python",
   "name": "python3"
  },
  "language_info": {
   "codemirror_mode": {
    "name": "ipython",
    "version": 3
   },
   "file_extension": ".py",
   "mimetype": "text/x-python",
   "name": "python",
   "nbconvert_exporter": "python",
   "pygments_lexer": "ipython3",
   "version": "3.11.3"
  }
 },
 "nbformat": 4,
 "nbformat_minor": 5
}
